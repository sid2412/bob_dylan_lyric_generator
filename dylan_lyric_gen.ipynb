{
  "nbformat": 4,
  "nbformat_minor": 0,
  "metadata": {
    "colab": {
      "name": "dylan.ipynb",
      "provenance": []
    },
    "kernelspec": {
      "name": "python3",
      "display_name": "Python 3"
    },
    "accelerator": "GPU"
  },
  "cells": [
    {
      "cell_type": "code",
      "metadata": {
        "id": "D11-_3j_XmAi",
        "colab_type": "code",
        "colab": {}
      },
      "source": [
        "import tensorflow as tf\n",
        "from tensorflow.keras.preprocessing.sequence import pad_sequences\n",
        "from tensorflow.keras.layers import Embedding, LSTM, Dense, Bidirectional, Dropout\n",
        "from tensorflow.keras.preprocessing.text import Tokenizer\n",
        "from tensorflow.keras.models import Sequential\n",
        "from tensorflow.keras.optimizers import Adam\n",
        "import numpy as np\n",
        "import string\n",
        "\n",
        "from urllib.request import urlopen\n",
        "from bs4 import BeautifulSoup\n",
        "import datetime\n",
        "import random\n",
        "import re"
      ],
      "execution_count": 1,
      "outputs": []
    },
    {
      "cell_type": "code",
      "metadata": {
        "id": "v2BFysbYgrgR",
        "colab_type": "code",
        "colab": {
          "base_uri": "https://localhost:8080/",
          "height": 54
        },
        "outputId": "d92b5522-30a9-4072-b66e-a6abd830d512"
      },
      "source": [
        "from google.colab import drive\n",
        "drive.mount('/content/gDrive')"
      ],
      "execution_count": 2,
      "outputs": [
        {
          "output_type": "stream",
          "text": [
            "Drive already mounted at /content/gDrive; to attempt to forcibly remount, call drive.mount(\"/content/gDrive\", force_remount=True).\n"
          ],
          "name": "stdout"
        }
      ]
    },
    {
      "cell_type": "code",
      "metadata": {
        "id": "rwqnE5YkXqFS",
        "colab_type": "code",
        "colab": {}
      },
      "source": [
        "# Extracting dylan lyrics from the web\n",
        "\n",
        "with open('/content/gDrive/My Drive/dylan_metro.txt', 'w') as file:\n",
        "    for i in range(1,12):\n",
        "        page = urlopen('https://www.metrolyrics.com/bob-dylan-alpage-{}.html'.format(i))\n",
        "        page_bs = BeautifulSoup(page, 'html.parser')\n",
        "        for link in page_bs.find('div', {'class':'content'}).find_all('a', href=True):\n",
        "            new_page = urlopen(link['href'])\n",
        "            new_bs = BeautifulSoup(new_page, 'html.parser')\n",
        "            data = new_bs.find_all('p', {'class':'verse'})\n",
        "            file.write(str(data))\n",
        "            file.write('\\n')"
      ],
      "execution_count": 3,
      "outputs": []
    },
    {
      "cell_type": "code",
      "metadata": {
        "id": "nND_ODnFXtjm",
        "colab_type": "code",
        "colab": {}
      },
      "source": [
        "data = open('/content/gDrive/My Drive/dylan_metro.txt').read()"
      ],
      "execution_count": 3,
      "outputs": []
    },
    {
      "cell_type": "code",
      "metadata": {
        "id": "p5T9UiM3YrH1",
        "colab_type": "code",
        "colab": {
          "base_uri": "https://localhost:8080/",
          "height": 188
        },
        "outputId": "a332bc13-a510-4564-e9af-842f986c8d7f"
      },
      "source": [
        "data[:1000]"
      ],
      "execution_count": 29,
      "outputs": [
        {
          "output_type": "execute_result",
          "data": {
            "application/vnd.google.colaboratory.intrinsic+json": {
              "type": "string"
            },
            "text/plain": [
              "'well my nerves are exploding \\nand my bodys tense \\ni feel like the whole world \\ngot me pinned up against the fence  ive been hit too hard \\nive seen too much \\nnothing can heal me now \\nbut your touch  i just dont know what im gonna do \\ni was alright til i fell in love with you  well my house is on fire \\nburning to the sky \\nwell i thought it would rain \\nbut the clouds passed by  now i feel like im coming \\nto the end of my way \\nbut i know god is my shield \\nand he wont lead me astray  still i dont know what im gonna do \\ni was alright til i fell in love with you  boys in the street \\nbeginning to play \\ngirls like birds \\nflying away  when im gone \\nyou will remember my name \\nim gonna win my way \\nto wealth and fame  and i just dont know what im gonna do \\ni was alright til i fell in love with you  well junk is piling up \\ntaking up space \\nmy eyes feel \\nlike theyre falling off my face  sweat falling down \\nim staring at the floor \\nim thinking about that girl \\nwho wont be back no more  i just dont kno'"
            ]
          },
          "metadata": {
            "tags": []
          },
          "execution_count": 29
        }
      ]
    },
    {
      "cell_type": "code",
      "metadata": {
        "id": "J8dKFXGGYt7g",
        "colab_type": "code",
        "colab": {}
      },
      "source": [
        "# Data cleanup\n",
        "\n",
        "def data_clean_round1(text):\n",
        "    text = text.lower()                                                 # lower case text\n",
        "    text = re.sub('<[^>]*>', ' ', text)                                    # remove all html tags\n",
        "    #text = re.sub('\\n', ' ', text)                                      # remove \\n characters\n",
        "    #text = re.sub('[]', ' ', text)                                     # remove square brackets\n",
        "    text = re.sub('[%s]' % re.escape(string.punctuation), '', text)     # remove punctuations\n",
        "    return text.strip()"
      ],
      "execution_count": 5,
      "outputs": []
    },
    {
      "cell_type": "code",
      "metadata": {
        "id": "nZ5Co8WCYxVH",
        "colab_type": "code",
        "colab": {}
      },
      "source": [
        "data = data_clean_round1(data)"
      ],
      "execution_count": 6,
      "outputs": []
    },
    {
      "cell_type": "code",
      "metadata": {
        "id": "a0uFuaTWYzLs",
        "colab_type": "code",
        "colab": {
          "base_uri": "https://localhost:8080/",
          "height": 188
        },
        "outputId": "f0526cda-0cf8-4ea7-dfb8-4de236e191f3"
      },
      "source": [
        "data[:1000]"
      ],
      "execution_count": 30,
      "outputs": [
        {
          "output_type": "execute_result",
          "data": {
            "application/vnd.google.colaboratory.intrinsic+json": {
              "type": "string"
            },
            "text/plain": [
              "'well my nerves are exploding \\nand my bodys tense \\ni feel like the whole world \\ngot me pinned up against the fence  ive been hit too hard \\nive seen too much \\nnothing can heal me now \\nbut your touch  i just dont know what im gonna do \\ni was alright til i fell in love with you  well my house is on fire \\nburning to the sky \\nwell i thought it would rain \\nbut the clouds passed by  now i feel like im coming \\nto the end of my way \\nbut i know god is my shield \\nand he wont lead me astray  still i dont know what im gonna do \\ni was alright til i fell in love with you  boys in the street \\nbeginning to play \\ngirls like birds \\nflying away  when im gone \\nyou will remember my name \\nim gonna win my way \\nto wealth and fame  and i just dont know what im gonna do \\ni was alright til i fell in love with you  well junk is piling up \\ntaking up space \\nmy eyes feel \\nlike theyre falling off my face  sweat falling down \\nim staring at the floor \\nim thinking about that girl \\nwho wont be back no more  i just dont kno'"
            ]
          },
          "metadata": {
            "tags": []
          },
          "execution_count": 30
        }
      ]
    },
    {
      "cell_type": "code",
      "metadata": {
        "id": "WDkJykkKY09O",
        "colab_type": "code",
        "colab": {}
      },
      "source": [
        "# another round of data cleaning\n",
        "\n",
        "def data_clean_round2(text):\n",
        "    text = re.sub('  ', ' ', text)\n",
        "    text = re.sub('   ', ' ', text)\n",
        "    return text"
      ],
      "execution_count": 8,
      "outputs": []
    },
    {
      "cell_type": "code",
      "metadata": {
        "id": "VlSbdyArY3lG",
        "colab_type": "code",
        "colab": {}
      },
      "source": [
        "data = data_clean_round2(data)"
      ],
      "execution_count": 9,
      "outputs": []
    },
    {
      "cell_type": "code",
      "metadata": {
        "id": "DyMGBVDhY5Vt",
        "colab_type": "code",
        "colab": {
          "base_uri": "https://localhost:8080/",
          "height": 188
        },
        "outputId": "0158cee1-8823-4fa9-93c6-207ed3a9f0a3"
      },
      "source": [
        "data[:1000]"
      ],
      "execution_count": 31,
      "outputs": [
        {
          "output_type": "execute_result",
          "data": {
            "application/vnd.google.colaboratory.intrinsic+json": {
              "type": "string"
            },
            "text/plain": [
              "'well my nerves are exploding \\nand my bodys tense \\ni feel like the whole world \\ngot me pinned up against the fence  ive been hit too hard \\nive seen too much \\nnothing can heal me now \\nbut your touch  i just dont know what im gonna do \\ni was alright til i fell in love with you  well my house is on fire \\nburning to the sky \\nwell i thought it would rain \\nbut the clouds passed by  now i feel like im coming \\nto the end of my way \\nbut i know god is my shield \\nand he wont lead me astray  still i dont know what im gonna do \\ni was alright til i fell in love with you  boys in the street \\nbeginning to play \\ngirls like birds \\nflying away  when im gone \\nyou will remember my name \\nim gonna win my way \\nto wealth and fame  and i just dont know what im gonna do \\ni was alright til i fell in love with you  well junk is piling up \\ntaking up space \\nmy eyes feel \\nlike theyre falling off my face  sweat falling down \\nim staring at the floor \\nim thinking about that girl \\nwho wont be back no more  i just dont kno'"
            ]
          },
          "metadata": {
            "tags": []
          },
          "execution_count": 31
        }
      ]
    },
    {
      "cell_type": "code",
      "metadata": {
        "id": "1qSOijicY68m",
        "colab_type": "code",
        "colab": {
          "base_uri": "https://localhost:8080/",
          "height": 34
        },
        "outputId": "2dc61a60-4378-4212-e00d-faa5a475139a"
      },
      "source": [
        "# Tokenizing\n",
        "\n",
        "corpus = data.split('\\n')\n",
        "\n",
        "tokenizer = Tokenizer()\n",
        "tokenizer.fit_on_texts(corpus)\n",
        "\n",
        "total_words = len(tokenizer.word_index) + 1\n",
        "\n",
        "print(total_words)\n",
        "#print(tokenizer.word_index)"
      ],
      "execution_count": 32,
      "outputs": [
        {
          "output_type": "stream",
          "text": [
            "9339\n"
          ],
          "name": "stdout"
        }
      ]
    },
    {
      "cell_type": "code",
      "metadata": {
        "id": "oT5rNNF0Y91B",
        "colab_type": "code",
        "colab": {}
      },
      "source": [
        "# creating n_gram sequences\n",
        "input_seq = []\n",
        "for line in corpus:\n",
        "    token_list = tokenizer.texts_to_sequences([line])[0]\n",
        "    for i in range(1, len(token_list)):\n",
        "        ngram_seq = token_list[:i+1]\n",
        "        input_seq.append(ngram_seq)\n",
        "        \n",
        "# pad sequences\n",
        "max_seq_len = max([len(x) for x in input_seq])\n",
        "input_seq = np.array(pad_sequences(input_seq, maxlen=max_seq_len, padding='pre'))\n",
        "\n",
        "# create predictors and labels\n",
        "xs, labels = input_seq[:,:-1], input_seq[:,-1]\n",
        "\n",
        "ys = tf.keras.utils.to_categorical(labels, num_classes=total_words)"
      ],
      "execution_count": 12,
      "outputs": []
    },
    {
      "cell_type": "code",
      "metadata": {
        "id": "Roa-KuwCZAKP",
        "colab_type": "code",
        "colab": {
          "base_uri": "https://localhost:8080/",
          "height": 119
        },
        "outputId": "484baff4-07fb-4196-81ab-68a85dc72aaa"
      },
      "source": [
        "# check word index with test lyric\n",
        "print(tokenizer.word_index['oh'])\n",
        "print(tokenizer.word_index['my'])\n",
        "print(tokenizer.word_index['name'])\n",
        "print(tokenizer.word_index['it'])\n",
        "print(tokenizer.word_index['aint'])\n",
        "print(tokenizer.word_index['nothin'])"
      ],
      "execution_count": 14,
      "outputs": [
        {
          "output_type": "stream",
          "text": [
            "64\n",
            "9\n",
            "244\n",
            "13\n",
            "63\n",
            "309\n"
          ],
          "name": "stdout"
        }
      ]
    },
    {
      "cell_type": "code",
      "metadata": {
        "id": "ycLdqc-dZCXX",
        "colab_type": "code",
        "colab": {
          "base_uri": "https://localhost:8080/",
          "height": 357
        },
        "outputId": "8133472d-925d-417e-d3c6-b4a77191e3b7"
      },
      "source": [
        "# Modelling\n",
        "\n",
        "model = Sequential([Embedding(total_words, 64, input_length=max_seq_len-1),\n",
        "                   Bidirectional(LSTM(100, return_sequences=True)),\n",
        "                   Dropout(0.2),\n",
        "                   Bidirectional(LSTM(80)),\n",
        "                   Dense(total_words/2, activation='relu'),\n",
        "                   Dense(total_words, activation='softmax')\n",
        "                   ])\n",
        "\n",
        "model.compile(loss='sparse_categorical_crossentropy',\n",
        "             optimizer='adam',\n",
        "             metrics=['accuracy'])\n",
        "\n",
        "model.summary()  "
      ],
      "execution_count": 15,
      "outputs": [
        {
          "output_type": "stream",
          "text": [
            "Model: \"sequential\"\n",
            "_________________________________________________________________\n",
            "Layer (type)                 Output Shape              Param #   \n",
            "=================================================================\n",
            "embedding (Embedding)        (None, 59, 64)            597696    \n",
            "_________________________________________________________________\n",
            "bidirectional (Bidirectional (None, 59, 200)           132000    \n",
            "_________________________________________________________________\n",
            "dropout (Dropout)            (None, 59, 200)           0         \n",
            "_________________________________________________________________\n",
            "bidirectional_1 (Bidirection (None, 160)               179840    \n",
            "_________________________________________________________________\n",
            "dense (Dense)                (None, 4669)              751709    \n",
            "_________________________________________________________________\n",
            "dense_1 (Dense)              (None, 9339)              43613130  \n",
            "=================================================================\n",
            "Total params: 45,274,375\n",
            "Trainable params: 45,274,375\n",
            "Non-trainable params: 0\n",
            "_________________________________________________________________\n"
          ],
          "name": "stdout"
        }
      ]
    },
    {
      "cell_type": "code",
      "metadata": {
        "id": "QNml03ZMiyGO",
        "colab_type": "code",
        "colab": {
          "base_uri": "https://localhost:8080/",
          "height": 54
        },
        "outputId": "d774a1f3-ffe4-4e99-8a6c-0d276872c1df"
      },
      "source": [
        "cp_path = '/content/gDrive/My Drive/dylan_weights.pt'\n",
        "\n",
        "cp = tf.keras.callbacks.ModelCheckpoint(cp_path, \n",
        "                                        save_weights_only=True,\n",
        "                                        period=5,\n",
        "                                        verbose=1)"
      ],
      "execution_count": 16,
      "outputs": [
        {
          "output_type": "stream",
          "text": [
            "WARNING:tensorflow:`period` argument is deprecated. Please use `save_freq` to specify the frequency in number of batches seen.\n"
          ],
          "name": "stdout"
        }
      ]
    },
    {
      "cell_type": "code",
      "metadata": {
        "id": "kzFHRVuPZEZA",
        "colab_type": "code",
        "colab": {
          "base_uri": "https://localhost:8080/",
          "height": 833
        },
        "outputId": "40544442-dc69-4b3b-c02d-f3a178efd281"
      },
      "source": [
        "model.load_weights(cp_path)\n",
        "\n",
        "history = model.fit(xs, labels, epochs=20, verbose=1, callbacks=[cp])"
      ],
      "execution_count": 17,
      "outputs": [
        {
          "output_type": "stream",
          "text": [
            "Epoch 1/20\n",
            "4556/4556 [==============================] - 117s 26ms/step - loss: 0.7497 - accuracy: 0.8002\n",
            "Epoch 2/20\n",
            "4556/4556 [==============================] - 117s 26ms/step - loss: 0.7496 - accuracy: 0.8000\n",
            "Epoch 3/20\n",
            "4556/4556 [==============================] - 115s 25ms/step - loss: 0.7489 - accuracy: 0.8002\n",
            "Epoch 4/20\n",
            "4556/4556 [==============================] - 114s 25ms/step - loss: 0.7451 - accuracy: 0.8019\n",
            "Epoch 5/20\n",
            "4554/4556 [============================>.] - ETA: 0s - loss: 0.7457 - accuracy: 0.8016\n",
            "Epoch 00005: saving model to /content/gDrive/My Drive/dylan_weights.pt\n",
            "4556/4556 [==============================] - 117s 26ms/step - loss: 0.7457 - accuracy: 0.8016\n",
            "Epoch 6/20\n",
            "4556/4556 [==============================] - 115s 25ms/step - loss: 0.7443 - accuracy: 0.8015\n",
            "Epoch 7/20\n",
            "4556/4556 [==============================] - 115s 25ms/step - loss: 0.7456 - accuracy: 0.8015\n",
            "Epoch 8/20\n",
            "4556/4556 [==============================] - 114s 25ms/step - loss: 0.7402 - accuracy: 0.8023\n",
            "Epoch 9/20\n",
            "4556/4556 [==============================] - 113s 25ms/step - loss: 0.7429 - accuracy: 0.8017\n",
            "Epoch 10/20\n",
            "4555/4556 [============================>.] - ETA: 0s - loss: 0.7415 - accuracy: 0.8020\n",
            "Epoch 00010: saving model to /content/gDrive/My Drive/dylan_weights.pt\n",
            "4556/4556 [==============================] - 115s 25ms/step - loss: 0.7416 - accuracy: 0.8020\n",
            "Epoch 11/20\n",
            "4556/4556 [==============================] - 113s 25ms/step - loss: 0.7421 - accuracy: 0.8010\n",
            "Epoch 12/20\n",
            "4556/4556 [==============================] - 112s 25ms/step - loss: 0.7426 - accuracy: 0.8013\n",
            "Epoch 13/20\n",
            "4556/4556 [==============================] - 113s 25ms/step - loss: 0.7380 - accuracy: 0.8027\n",
            "Epoch 14/20\n",
            "4556/4556 [==============================] - 112s 25ms/step - loss: 0.7391 - accuracy: 0.8029\n",
            "Epoch 15/20\n",
            "4556/4556 [==============================] - ETA: 0s - loss: 0.7373 - accuracy: 0.8035\n",
            "Epoch 00015: saving model to /content/gDrive/My Drive/dylan_weights.pt\n",
            "4556/4556 [==============================] - 116s 25ms/step - loss: 0.7373 - accuracy: 0.8035\n",
            "Epoch 16/20\n",
            "4556/4556 [==============================] - 113s 25ms/step - loss: 0.7389 - accuracy: 0.8032\n",
            "Epoch 17/20\n",
            "4556/4556 [==============================] - 112s 24ms/step - loss: 0.7384 - accuracy: 0.8033\n",
            "Epoch 18/20\n",
            "4556/4556 [==============================] - 112s 25ms/step - loss: 0.7361 - accuracy: 0.8038\n",
            "Epoch 19/20\n",
            "4556/4556 [==============================] - 111s 24ms/step - loss: 0.7360 - accuracy: 0.8035\n",
            "Epoch 20/20\n",
            "4556/4556 [==============================] - ETA: 0s - loss: 0.7363 - accuracy: 0.8029\n",
            "Epoch 00020: saving model to /content/gDrive/My Drive/dylan_weights.pt\n",
            "4556/4556 [==============================] - 116s 25ms/step - loss: 0.7363 - accuracy: 0.8029\n"
          ],
          "name": "stdout"
        }
      ]
    },
    {
      "cell_type": "code",
      "metadata": {
        "id": "7TIMJ1J3f-Z8",
        "colab_type": "code",
        "colab": {
          "base_uri": "https://localhost:8080/",
          "height": 545
        },
        "outputId": "f3876222-fa3a-45e2-ca9e-75594a5b3fd9"
      },
      "source": [
        "import matplotlib.pyplot as plt\n",
        "acc = history.history['accuracy']\n",
        "loss = history.history['loss']\n",
        "\n",
        "epochs = range(len(acc))\n",
        "\n",
        "plt.plot(epochs, acc, 'b', label='Training accuracy')\n",
        "plt.title('Training accuracy')\n",
        "\n",
        "plt.figure()\n",
        "\n",
        "plt.plot(epochs, loss, 'b', label='Training Loss')\n",
        "plt.title('Training loss')\n",
        "plt.legend()\n",
        "\n",
        "plt.show()"
      ],
      "execution_count": 18,
      "outputs": [
        {
          "output_type": "display_data",
          "data": {
            "image/png": "[encoded data removed]",
            "text/plain": [
              "<Figure size 432x288 with 1 Axes>"
            ]
          },
          "metadata": {
            "tags": [],
            "needs_background": "light"
          }
        },
        {
          "output_type": "display_data",
          "data": {
            "image/png": "[encoded data removed]",
            "text/plain": [
              "<Figure size 432x288 with 1 Axes>"
            ]
          },
          "metadata": {
            "tags": [],
            "needs_background": "light"
          }
        }
      ]
    },
    {
      "cell_type": "code",
      "metadata": {
        "id": "fs5QifCXgA0l",
        "colab_type": "code",
        "colab": {
          "base_uri": "https://localhost:8080/",
          "height": 54
        },
        "outputId": "5fcc88cb-bbdc-4677-e568-918f1cc1ac97"
      },
      "source": [
        "seed_text = \"the world\"\n",
        "next_words = 60\n",
        "  \n",
        "for _ in range(next_words):\n",
        "\ttoken_list = tokenizer.texts_to_sequences([seed_text])[0]\n",
        "\ttoken_list = pad_sequences([token_list], maxlen=max_seq_len-1, padding='pre')\n",
        "\tpredicted = model.predict_classes(token_list, verbose=0)\n",
        "\toutput_word = \"\"\n",
        "\tfor word, index in tokenizer.word_index.items():\n",
        "\t\tif index == predicted:\n",
        "\t\t\toutput_word = word\n",
        "\t\t\tbreak\n",
        "\tseed_text += \" \" + output_word\n",
        "print(seed_text)"
      ],
      "execution_count": 26,
      "outputs": [
        {
          "output_type": "stream",
          "text": [
            "the world has gone black before my eyes well the world of research has gone berserk is the brass new dreams are a country still in gold theres a house in a cadillac room he was up on a golden road of life i need a shot of love i need a shot of love dont make you leave faint up the\n"
          ],
          "name": "stdout"
        }
      ]
    },
    {
      "cell_type": "code",
      "metadata": {
        "id": "Gk7j8_DigHAL",
        "colab_type": "code",
        "colab": {
          "base_uri": "https://localhost:8080/",
          "height": 54
        },
        "outputId": "cbb4a8ff-77f5-445f-ae82-eb4da3a4a045"
      },
      "source": [
        "seed_text = \"i was born\"\n",
        "next_words = 20\n",
        "  \n",
        "for _ in range(next_words):\n",
        "\ttoken_list = tokenizer.texts_to_sequences([seed_text])[0]\n",
        "\ttoken_list = pad_sequences([token_list], maxlen=max_seq_len-1, padding='pre')\n",
        "\tpredicted = model.predict_classes(token_list, verbose=0)\n",
        "\toutput_word = \"\"\n",
        "\tfor word, index in tokenizer.word_index.items():\n",
        "\t\tif index == predicted:\n",
        "\t\t\toutput_word = word\n",
        "\t\t\tbreak\n",
        "\tseed_text += \" \" + output_word\n",
        "print(seed_text)"
      ],
      "execution_count": 27,
      "outputs": [
        {
          "output_type": "stream",
          "text": [
            "i was born to be a fiddler in an oldtime stringband on the road well its faretheewell my dear i will love you\n"
          ],
          "name": "stdout"
        }
      ]
    },
    {
      "cell_type": "code",
      "metadata": {
        "id": "cKKdSQ3wAqih",
        "colab_type": "code",
        "colab": {}
      },
      "source": [
        ""
      ],
      "execution_count": null,
      "outputs": []
    }
  ]
}